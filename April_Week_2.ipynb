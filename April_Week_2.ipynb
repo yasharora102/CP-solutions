{
 "cells": [
  {
   "attachments": {},
   "cell_type": "markdown",
   "metadata": {},
   "source": [
    "# 1714B Remove Prefix"
   ]
  },
  {
   "cell_type": "code",
   "execution_count": 24,
   "metadata": {},
   "outputs": [
    {
     "name": "stdout",
     "output_type": "stream",
     "text": [
      "5\n"
     ]
    }
   ],
   "source": [
    "class C_1714B:\n",
    "    def __init__(self):\n",
    "        self.num_test_cases = 0\n",
    "\n",
    "    def read_input(self):\n",
    "        self.num_test_cases = int(input())\n",
    "\n",
    "    def find_repeating_number(self, n, numbers):\n",
    "        unique_numbers = set()\n",
    "\n",
    "        for i in range(n - 1, -1, -1):\n",
    "            if numbers[i] in unique_numbers:\n",
    "                return n\n",
    "            unique_numbers.add(numbers[i])\n",
    "            n = n - 1\n",
    "\n",
    "        return n\n",
    "\n",
    "    def run(self):\n",
    "        self.read_input()\n",
    "\n",
    "        while self.num_test_cases > 0:\n",
    "            n = int(input())\n",
    "            numbers = input().split(\" \")\n",
    "            result = self.find_repeating_number(n, numbers)\n",
    "            print(result)\n",
    "            self.num_test_cases = self.num_test_cases - 1\n",
    "\n",
    "if __name__ == '__main__':\n",
    "    C_1714B().run()"
   ]
  },
  {
   "attachments": {},
   "cell_type": "markdown",
   "metadata": {},
   "source": [
    "# 1374B Multiply by 2, divide by 6\n"
   ]
  },
  {
   "cell_type": "code",
   "execution_count": null,
   "metadata": {},
   "outputs": [],
   "source": [
    "class MulBy2DivBy6:\n",
    "    def __init__(self, n):\n",
    "        self.n = n\n",
    "\n",
    "    def compute_moves(self):\n",
    "        counter_div = 0\n",
    "        counter_mul = 0\n",
    "\n",
    "        # Keep dividing by 6 as long as n is divisible by 6\n",
    "        while self.n % 6 == 0:\n",
    "            self.n //= 6\n",
    "            counter_div += 1\n",
    "\n",
    "        # Keep multiplying by 2 and then dividing by 6 as long as n*2 is divisible by 6\n",
    "        while (self.n * 2) % 6 == 0:\n",
    "            self.n *= 2\n",
    "            self.n //= 6\n",
    "            counter_div += 1\n",
    "            counter_mul += 1\n",
    "\n",
    "        if self.n == 1:\n",
    "            return counter_div + counter_mul\n",
    "        else:\n",
    "            return -1\n",
    "\n",
    "\n",
    "if __name__ == \"__main__\":\n",
    "    t = int(input())\n",
    "    for _ in range(t):\n",
    "        n = int(input())\n",
    "        result = MulBy2DivBy6(n).compute_moves()\n",
    "        print(result)"
   ]
  },
  {
   "attachments": {},
   "cell_type": "markdown",
   "metadata": {},
   "source": [
    "# 69A Young Physicist"
   ]
  },
  {
   "cell_type": "code",
   "execution_count": null,
   "metadata": {},
   "outputs": [],
   "source": [
    "class Vector:\n",
    "    def __init__(self, x, y, z):\n",
    "        self.x = x\n",
    "        self.y = y\n",
    "        self.z = z\n",
    "\n",
    "    def __add__(self, other):\n",
    "        return Vector(self.x + other.x, self.y + other.y, self.z + other.z)\n",
    "\n",
    "    def is_zero_vector(self):\n",
    "        return self.x == 0 and self.y == 0 and self.z == 0\n",
    "\n",
    "\n",
    "class VectorOperations:\n",
    "    def __init__(self):\n",
    "        self.vectors = []\n",
    "        self.num_vectors = 0\n",
    "\n",
    "    def get_num_vectors(self):\n",
    "        self.num_vectors = int(input())\n",
    "\n",
    "    def get_vectors(self):\n",
    "        for i in range(self.num_vectors):\n",
    "            x, y, z = map(int, input().split(' '))\n",
    "            vector = Vector(x, y, z)\n",
    "            self.vectors.append(vector)\n",
    "\n",
    "    def perform_vector_operations(self):\n",
    "        total_vector = Vector(0, 0, 0)\n",
    "        for vector in self.vectors:\n",
    "            total_vector += vector\n",
    "\n",
    "        if total_vector.is_zero_vector():\n",
    "            print('YES')\n",
    "        else:\n",
    "            print('NO')\n",
    "\n",
    "\n",
    "def main():\n",
    "    vector_ops = VectorOperations()\n",
    "    vector_ops.get_num_vectors()\n",
    "    vector_ops.get_vectors()\n",
    "    vector_ops.perform_vector_operations()\n",
    "\n",
    "\n",
    "if __name__ == '__main__':\n",
    "    main()\n"
   ]
  }
 ],
 "metadata": {
  "kernelspec": {
   "display_name": "Python 3 (ipykernel)",
   "language": "python",
   "name": "python3"
  },
  "language_info": {
   "codemirror_mode": {
    "name": "ipython",
    "version": 3
   },
   "file_extension": ".py",
   "mimetype": "text/x-python",
   "name": "python",
   "nbconvert_exporter": "python",
   "pygments_lexer": "ipython3",
   "version": "3.10.9"
  },
  "orig_nbformat": 4
 },
 "nbformat": 4,
 "nbformat_minor": 2
}
