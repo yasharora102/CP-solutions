{
 "cells": [
  {
   "cell_type": "code",
   "execution_count": 24,
   "metadata": {},
   "outputs": [
    {
     "name": "stdout",
     "output_type": "stream",
     "text": [
      "5\n"
     ]
    }
   ],
   "source": [
    "class C_1714B:\n",
    "    def __init__(self):\n",
    "        self.num_test_cases = 0\n",
    "\n",
    "    def read_input(self):\n",
    "        self.num_test_cases = int(input())\n",
    "\n",
    "    def find_repeating_number(self, n, numbers):\n",
    "        unique_numbers = set()\n",
    "\n",
    "        for i in range(n - 1, -1, -1):\n",
    "            if numbers[i] in unique_numbers:\n",
    "                return n\n",
    "            unique_numbers.add(numbers[i])\n",
    "            n = n - 1\n",
    "\n",
    "        return n\n",
    "\n",
    "    def run(self):\n",
    "        self.read_input()\n",
    "\n",
    "        while self.num_test_cases > 0:\n",
    "            n = int(input())\n",
    "            numbers = input().split(\" \")\n",
    "            result = self.find_repeating_number(n, numbers)\n",
    "            print(result)\n",
    "            self.num_test_cases = self.num_test_cases - 1\n",
    "\n",
    "if __name__ == '__main__':\n",
    "    C_1714B().run()"
   ]
  }
 ],
 "metadata": {
  "kernelspec": {
   "display_name": "Python 3 (ipykernel)",
   "language": "python",
   "name": "python3"
  },
  "language_info": {
   "codemirror_mode": {
    "name": "ipython",
    "version": 3
   },
   "file_extension": ".py",
   "mimetype": "text/x-python",
   "name": "python",
   "nbconvert_exporter": "python",
   "pygments_lexer": "ipython3",
   "version": "3.10.9"
  },
  "orig_nbformat": 4
 },
 "nbformat": 4,
 "nbformat_minor": 2
}
